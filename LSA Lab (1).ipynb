{
 "cells": [
  {
   "cell_type": "code",
   "execution_count": 26,
   "metadata": {
    "collapsed": true
   },
   "outputs": [],
   "source": [
    "from sklearn.datasets import fetch_20newsgroups\n",
    "categories = ['rec.sport.baseball']\n",
    "dataset = fetch_20newsgroups(subset='all',shuffle=True, random_state=42, categories=categories)\n",
    "corpus = dataset.data"
   ]
  },
  {
   "cell_type": "code",
   "execution_count": 27,
   "metadata": {
    "collapsed": true
   },
   "outputs": [],
   "source": [
    "import nltk\n",
    "from nltk.corpus import stopwords\n",
    "from sklearn.feature_extraction.text import TfidfVectorizer\n",
    "from sklearn.decomposition import TruncatedSVD"
   ]
  },
  {
   "cell_type": "code",
   "execution_count": 28,
   "metadata": {
    "collapsed": false
   },
   "outputs": [
    {
     "data": {
      "text/plain": [
       "\"From: writingctr@leo.bsuvc.bsu.edu\\nSubject: Re: CUB fever.\\nOrganization: Ball State University, Muncie, In - Univ. Computing Svc's\\nLines: 21\\n\\n\\nIn article <kingoz.735285670@camelot>, kingoz@camelot.bradley.edu (Orin Roth) writes:\\n> \\n>    CUB fever is hitting me again. I'm beginning to think they have a \\n>    chance this year. (what the heck am i thinking?)\\n>    Sorry. Just a moment of incompetence.\\n>    I'll be ok. Really. \\n>    Orin.\\n>    Bradley U.\\n> \\n> --\\n> I'm really a jester in disguise!                                   \\nI hear ya!  Then again, we must remember that we are indeed Cub fans, and\\nthat the Cubs will eventually blow it.  After all, the Cubs are the easiest\\nteam in the National League to root for.  No Pressure.  You know they will\\nlose eventually.  Oh well, I suppose we must have faith.  After all, they\\ndo look pretty good, and they don't even have Sandberg back yet.  \\n\\nCUBS IN '93!!!!!\\n\\nCHA\\n\""
      ]
     },
     "execution_count": 28,
     "metadata": {},
     "output_type": "execute_result"
    }
   ],
   "source": [
    "corpus[0]"
   ]
  },
  {
   "cell_type": "code",
   "execution_count": 59,
   "metadata": {
    "collapsed": true
   },
   "outputs": [],
   "source": [
    "stopset = set(stopwords.words('english'))\n",
    "stopset.update(['lt','p','/p','br','amp','quot','field','font','normal','span','0px','rgb','style','51', \n",
    "                'spacing','text','helvetica','size','family', 'space', 'arial', 'height', 'indent', 'letter'\n",
    "                'line','none','sans','serif','transform','line','variant','weight','times', 'new','strong', 'video', 'title'\n",
    "                'white','word','letter', 'roman','0pt','16','color','12','14','21', 'neue', 'apple', 'class', 'nntp', 'like', 'well', 'also', 'get', 'com', 'would', 'say', 'go', 'much', 'write', '00', 'edu', 'see', 'could', 'cs'  ])"
   ]
  },
  {
   "cell_type": "code",
   "execution_count": 60,
   "metadata": {
    "collapsed": false
   },
   "outputs": [],
   "source": [
    "vectorizer = TfidfVectorizer(stop_words=stopset,\n",
    "                                 use_idf=True, ngram_range=(1, 3))\n",
    "X = vectorizer.fit_transform(corpus)"
   ]
  },
  {
   "cell_type": "code",
   "execution_count": 61,
   "metadata": {
    "collapsed": false
   },
   "outputs": [
    {
     "data": {
      "text/plain": [
       "<1x183363 sparse matrix of type '<class 'numpy.float64'>'\n",
       "\twith 221 stored elements in Compressed Sparse Row format>"
      ]
     },
     "execution_count": 61,
     "metadata": {},
     "output_type": "execute_result"
    }
   ],
   "source": [
    "X[0]"
   ]
  },
  {
   "cell_type": "code",
   "execution_count": 62,
   "metadata": {
    "collapsed": false
   },
   "outputs": [
    {
     "name": "stdout",
     "output_type": "stream",
     "text": [
      "  (0, 50334)\t0.0746143781308\n",
      "  (0, 182632)\t0.0746143781308\n",
      "  (0, 28535)\t0.0746143781308\n",
      "  (0, 141801)\t0.0746143781308\n",
      "  (0, 61651)\t0.0746143781308\n",
      "  (0, 74364)\t0.0746143781308\n",
      "  (0, 128965)\t0.0746143781308\n",
      "  (0, 99121)\t0.0746143781308\n",
      "  (0, 64048)\t0.0746143781308\n",
      "  (0, 110066)\t0.0746143781308\n",
      "  (0, 158007)\t0.0746143781308\n",
      "  (0, 115264)\t0.0746143781308\n",
      "  (0, 61793)\t0.0746143781308\n",
      "  (0, 99644)\t0.0746143781308\n",
      "  (0, 92013)\t0.0746143781308\n",
      "  (0, 128866)\t0.0746143781308\n",
      "  (0, 138936)\t0.0746143781308\n",
      "  (0, 94640)\t0.0746143781308\n",
      "  (0, 110708)\t0.0746143781308\n",
      "  (0, 160409)\t0.0746143781308\n",
      "  (0, 58278)\t0.0746143781308\n",
      "  (0, 50375)\t0.0746143781308\n",
      "  (0, 35354)\t0.0746143781308\n",
      "  (0, 61779)\t0.0746143781308\n",
      "  (0, 50379)\t0.0746143781308\n",
      "  :\t:\n",
      "  (0, 81041)\t0.0347679863661\n",
      "  (0, 179138)\t0.015793218668\n",
      "  (0, 139185)\t0.0560708943103\n",
      "  (0, 117961)\t0.112141788621\n",
      "  (0, 37150)\t0.100558508066\n",
      "  (0, 40387)\t0.10618716363\n",
      "  (0, 16465)\t0.0746143781308\n",
      "  (0, 91401)\t0.112141788621\n",
      "  (0, 25338)\t0.0163351914656\n",
      "  (0, 96769)\t0.0104119122299\n",
      "  (0, 158601)\t0.0616491390816\n",
      "  (0, 47466)\t0.0394143137804\n",
      "  (0, 170292)\t0.0397651716303\n",
      "  (0, 109861)\t0.0616491390816\n",
      "  (0, 170328)\t0.0182220947563\n",
      "  (0, 153660)\t0.0378189597798\n",
      "  (0, 29059)\t0.031098688164\n",
      "  (0, 117349)\t0.0104328622682\n",
      "  (0, 65596)\t0.126488986164\n",
      "  (0, 50256)\t0.163426620929\n",
      "  (0, 156511)\t0.0103493153735\n",
      "  (0, 38410)\t0.0513150493092\n",
      "  (0, 38431)\t0.0513150493092\n",
      "  (0, 95681)\t0.0502792540329\n",
      "  (0, 180075)\t0.0746143781308\n"
     ]
    }
   ],
   "source": [
    "print (X[0])"
   ]
  },
  {
   "cell_type": "code",
   "execution_count": 63,
   "metadata": {
    "collapsed": false
   },
   "outputs": [
    {
     "data": {
      "text/plain": [
       "(994, 183363)"
      ]
     },
     "execution_count": 63,
     "metadata": {},
     "output_type": "execute_result"
    }
   ],
   "source": [
    "X.shape"
   ]
  },
  {
   "cell_type": "code",
   "execution_count": 64,
   "metadata": {
    "collapsed": false
   },
   "outputs": [
    {
     "data": {
      "text/plain": [
       "TruncatedSVD(algorithm='randomized', n_components=27, n_iter=100,\n",
       "       random_state=None, tol=0.0)"
      ]
     },
     "execution_count": 64,
     "metadata": {},
     "output_type": "execute_result"
    }
   ],
   "source": [
    "lsa = TruncatedSVD(n_components=27, n_iter=100)\n",
    "lsa.fit(X)"
   ]
  },
  {
   "cell_type": "code",
   "execution_count": 65,
   "metadata": {
    "collapsed": false
   },
   "outputs": [
    {
     "data": {
      "text/plain": [
       "array([ 0.01611976,  0.00196809,  0.00046378, ...,  0.0011252 ,\n",
       "        0.0011252 ,  0.0011252 ])"
      ]
     },
     "execution_count": 65,
     "metadata": {},
     "output_type": "execute_result"
    }
   ],
   "source": [
    "#This is the first row for V\n",
    "lsa.components_[0]"
   ]
  },
  {
   "cell_type": "code",
   "execution_count": null,
   "metadata": {
    "collapsed": true
   },
   "outputs": [],
   "source": []
  },
  {
   "cell_type": "code",
   "execution_count": null,
   "metadata": {
    "collapsed": true
   },
   "outputs": [],
   "source": []
  },
  {
   "cell_type": "code",
   "execution_count": 66,
   "metadata": {
    "collapsed": false
   },
   "outputs": [
    {
     "name": "stdout",
     "output_type": "stream",
     "text": [
      "3.5.2 |Anaconda 4.1.1 (x86_64)| (default, Jul  2 2016, 17:52:12) \n",
      "[GCC 4.2.1 Compatible Apple LLVM 4.2 (clang-425.0.28)]\n"
     ]
    }
   ],
   "source": [
    "import sys\n",
    "print (sys.version)"
   ]
  },
  {
   "cell_type": "code",
   "execution_count": null,
   "metadata": {
    "collapsed": true
   },
   "outputs": [],
   "source": []
  },
  {
   "cell_type": "code",
   "execution_count": null,
   "metadata": {
    "collapsed": true
   },
   "outputs": [],
   "source": []
  },
  {
   "cell_type": "code",
   "execution_count": 67,
   "metadata": {
    "collapsed": false
   },
   "outputs": [
    {
     "name": "stdout",
     "output_type": "stream",
     "text": [
      "Concept 0:\n",
      "year\n",
      "team\n",
      "game\n",
      "writes\n",
      "article\n",
      "baseball\n",
      "players\n",
      "games\n",
      "one\n",
      "good\n",
      " \n",
      "Concept 1:\n",
      "jewish\n",
      "posting\n",
      "lafayette vb30\n",
      "lafibm lafayette\n",
      "lafibm lafayette vb30\n",
      "time\n",
      "article\n",
      "anyone\n",
      "000 000 crunch\n",
      "baseball players\n",
      " \n",
      "Concept 2:\n",
      "ibm\n",
      "kingston\n",
      "good\n",
      "maybe\n",
      "really\n",
      "mike\n",
      "pitching\n",
      "might\n",
      "morris\n",
      "first\n",
      " \n",
      "Concept 3:\n",
      "pitching\n",
      "win\n",
      "sox\n",
      "world\n",
      "hit\n",
      "host\n",
      "thanks\n",
      "10\n",
      "think\n",
      "nl\n",
      " \n",
      "Concept 4:\n",
      "team\n",
      "first\n",
      "let\n",
      "two\n",
      "clutch\n",
      "world\n",
      "morris\n",
      "time\n",
      "000 000 74\n",
      "sox\n",
      " \n",
      "Concept 5:\n",
      "year\n",
      "morris\n",
      "clutch\n",
      "braves\n",
      "better\n",
      "sure\n",
      "games\n",
      "long\n",
      "writes\n",
      "best\n",
      " \n",
      "Concept 6:\n",
      "team\n",
      "might\n",
      "morris\n",
      "15\n",
      "stats\n",
      "many\n",
      "league\n",
      "long\n",
      "news\n",
      "roger\n",
      " \n",
      "Concept 7:\n",
      "might\n",
      "runs\n",
      "really\n",
      "netcom\n",
      "bonds\n",
      "ca\n",
      "teams\n",
      "ted\n",
      "ball\n",
      "mail\n",
      " \n",
      "Concept 8:\n",
      "university\n",
      "hit\n",
      "year\n",
      "games\n",
      "game\n",
      "last year\n",
      "smith\n",
      "hirschbeck\n",
      "gant\n",
      "even\n",
      " \n",
      "Concept 9:\n",
      "morris\n",
      "posting host\n",
      "something\n",
      "even\n",
      "last\n",
      "host\n",
      "ca\n",
      "subject\n",
      "scott\n",
      "pitcher\n",
      " \n",
      "Concept 10:\n",
      "play\n",
      "may\n",
      "time\n",
      "people\n",
      "still\n",
      "ca\n",
      "michael\n",
      "scott\n",
      "writes article\n",
      "right\n",
      " \n",
      "Concept 11:\n",
      "games\n",
      "roger\n",
      "game\n",
      "pitching\n",
      "hitting\n",
      "years\n",
      "first\n",
      "good\n",
      "may\n",
      "morris\n",
      " \n",
      "Concept 12:\n",
      "hit\n",
      "first\n",
      "hitter\n",
      "hitting\n",
      "believe\n",
      "base\n",
      "runs\n",
      "right\n",
      "article\n",
      "john\n",
      " \n",
      "Concept 13:\n",
      "university\n",
      "season\n",
      "000 000 000\n",
      "lines\n",
      "host\n",
      "hitter\n",
      "000 000 crunch\n",
      "runs\n",
      "first\n",
      "best\n",
      " \n",
      "Concept 14:\n",
      "host\n",
      "hit\n",
      "one\n",
      "year\n",
      "even\n",
      "000 000 151\n",
      "people\n",
      "writes article\n",
      "really\n",
      "000 000 crunch\n",
      " \n",
      "Concept 15:\n",
      "think\n",
      "games\n",
      "000 000 067\n",
      "come\n",
      "good\n",
      "last\n",
      "hit\n",
      "000 000 151\n",
      "point\n",
      "years\n",
      " \n",
      "Concept 16:\n",
      "year\n",
      "david\n",
      "10\n",
      "team\n",
      "really\n",
      "good\n",
      "play\n",
      "writes\n",
      "better\n",
      "last year\n",
      " \n",
      "Concept 17:\n",
      "000 000 crunch\n",
      "two\n",
      "baseball\n",
      "pitching\n",
      "last\n",
      "season\n",
      "teams\n",
      "dave\n",
      "home\n",
      "hirschbeck\n",
      " \n",
      "Concept 18:\n",
      "one\n",
      "year\n",
      "posting host\n",
      "games\n",
      "host\n",
      "baseball\n",
      "roger\n",
      "time\n",
      "players\n",
      "years\n",
      " \n",
      "Concept 19:\n",
      "team\n",
      "good\n",
      "hit\n",
      "baseball\n",
      "game\n",
      "organization\n",
      "always\n",
      "000 000 000\n",
      "mike\n",
      "writes article\n",
      " \n",
      "Concept 20:\n",
      "one\n",
      "hit\n",
      "baseball\n",
      "000 000 000\n",
      "anyone\n",
      "organization\n",
      "years\n",
      "look\n",
      "teams\n",
      "best\n",
      " \n",
      "Concept 21:\n",
      "hit\n",
      "way\n",
      "first\n",
      "organization university\n",
      "000 000 000\n",
      "going\n",
      "even\n",
      "000 000 151\n",
      "know\n",
      "may\n",
      " \n",
      "Concept 22:\n",
      "season\n",
      "university\n",
      "braves\n",
      "baseball\n",
      "win\n",
      "000 000 74\n",
      "hit\n",
      "series\n",
      "believe\n",
      "make\n",
      " \n",
      "Concept 23:\n",
      "writes\n",
      "know\n",
      "anyone\n",
      "000 000 151\n",
      "distribution\n",
      "morris\n",
      "three\n",
      "series\n",
      "fans\n",
      "cc\n",
      " \n",
      "Concept 24:\n",
      "writes\n",
      "article\n",
      "best\n",
      "writes article\n",
      "win\n",
      "posting host\n",
      "university\n",
      "might\n",
      "jewish\n",
      "000 000 067\n",
      " \n",
      "Concept 25:\n",
      "000\n",
      "anyone\n",
      "000 000 assuming\n",
      "ca\n",
      "article\n",
      "000 000 151\n",
      "games\n",
      "writes\n",
      "might\n",
      "come\n",
      " \n",
      "Concept 26:\n",
      "000\n",
      "000 000 74\n",
      "year\n",
      "good\n",
      "best\n",
      "player\n",
      "posting\n",
      "000 000 067\n",
      "host\n",
      "three\n",
      " \n"
     ]
    }
   ],
   "source": [
    "terms = vectorizer.get_feature_names()\n",
    "for i, comp in enumerate(lsa.components_): \n",
    "    termsInComp = zip (terms,comp)\n",
    "    sortedTerms =  sorted(termsInComp, key=lambda x: x[1], reverse=True) [:10]\n",
    "    print (\"Concept %d:\" % i)\n",
    "    for term in sortedTerms:\n",
    "        print (term[0])\n",
    "    print (\" \")"
   ]
  },
  {
   "cell_type": "code",
   "execution_count": null,
   "metadata": {
    "collapsed": true
   },
   "outputs": [],
   "source": []
  },
  {
   "cell_type": "code",
   "execution_count": null,
   "metadata": {
    "collapsed": true
   },
   "outputs": [],
   "source": []
  },
  {
   "cell_type": "code",
   "execution_count": 68,
   "metadata": {
    "collapsed": false
   },
   "outputs": [
    {
     "data": {
      "text/plain": [
       "array([[  1.61197634e-02,   1.96808500e-03,   4.63775680e-04, ...,\n",
       "          1.12520351e-03,   1.12520351e-03,   1.12520351e-03],\n",
       "       [ -4.08729684e-03,   3.91207412e-02,  -9.34675499e-02, ...,\n",
       "         -1.46035548e-03,  -1.46035548e-03,  -1.13166167e-03],\n",
       "       [  1.94663351e-02,   1.37117834e-02,  -1.94948992e-02, ...,\n",
       "         -2.13893676e-03,  -2.13893676e-03,  -1.77518684e-03],\n",
       "       ..., \n",
       "       [  1.10305181e-02,  -2.54617812e-02,  -1.15767232e-02, ...,\n",
       "         -2.29360997e-03,  -2.29360997e-03,  -2.54010645e-03],\n",
       "       [  4.05282803e-01,   6.42385979e-02,   6.63461598e-02, ...,\n",
       "          2.71688613e-04,   2.71688613e-04,   3.14048990e-04],\n",
       "       [  4.05756021e-01,   8.93646768e-02,   5.92257483e-02, ...,\n",
       "          9.61987622e-05,   9.61987622e-05,   7.53451872e-04]])"
      ]
     },
     "execution_count": 68,
     "metadata": {},
     "output_type": "execute_result"
    }
   ],
   "source": [
    "lsa.components_"
   ]
  },
  {
   "cell_type": "code",
   "execution_count": null,
   "metadata": {
    "collapsed": true
   },
   "outputs": [],
   "source": []
  },
  {
   "cell_type": "code",
   "execution_count": null,
   "metadata": {
    "collapsed": true
   },
   "outputs": [],
   "source": []
  },
  {
   "cell_type": "code",
   "execution_count": null,
   "metadata": {
    "collapsed": true
   },
   "outputs": [],
   "source": []
  }
 ],
 "metadata": {
  "kernelspec": {
   "display_name": "Python [Root]",
   "language": "python",
   "name": "Python [Root]"
  },
  "language_info": {
   "codemirror_mode": {
    "name": "ipython",
    "version": 3
   },
   "file_extension": ".py",
   "mimetype": "text/x-python",
   "name": "python",
   "nbconvert_exporter": "python",
   "pygments_lexer": "ipython3",
   "version": "3.5.2"
  }
 },
 "nbformat": 4,
 "nbformat_minor": 0
}
