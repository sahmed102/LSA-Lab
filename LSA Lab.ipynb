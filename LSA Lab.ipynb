{
 "cells": [
  {
   "cell_type": "code",
   "execution_count": 26,
   "metadata": {
    "collapsed": true
   },
   "outputs": [],
   "source": [
    "from sklearn.datasets import fetch_20newsgroups\n",
    "categories = ['rec.sport.baseball']\n",
    "dataset = fetch_20newsgroups(subset='all',shuffle=True, random_state=42, categories=categories)\n",
    "corpus = dataset.data"
   ]
  },
  {
   "cell_type": "code",
   "execution_count": 27,
   "metadata": {
    "collapsed": true
   },
   "outputs": [],
   "source": [
    "import nltk\n",
    "from nltk.corpus import stopwords\n",
    "from sklearn.feature_extraction.text import TfidfVectorizer\n",
    "from sklearn.decomposition import TruncatedSVD"
   ]
  },
  {
   "cell_type": "code",
   "execution_count": 28,
   "metadata": {
    "collapsed": false
   },
   "outputs": [
    {
     "data": {
      "text/plain": [
       "\"From: writingctr@leo.bsuvc.bsu.edu\\nSubject: Re: CUB fever.\\nOrganization: Ball State University, Muncie, In - Univ. Computing Svc's\\nLines: 21\\n\\n\\nIn article <kingoz.735285670@camelot>, kingoz@camelot.bradley.edu (Orin Roth) writes:\\n> \\n>    CUB fever is hitting me again. I'm beginning to think they have a \\n>    chance this year. (what the heck am i thinking?)\\n>    Sorry. Just a moment of incompetence.\\n>    I'll be ok. Really. \\n>    Orin.\\n>    Bradley U.\\n> \\n> --\\n> I'm really a jester in disguise!                                   \\nI hear ya!  Then again, we must remember that we are indeed Cub fans, and\\nthat the Cubs will eventually blow it.  After all, the Cubs are the easiest\\nteam in the National League to root for.  No Pressure.  You know they will\\nlose eventually.  Oh well, I suppose we must have faith.  After all, they\\ndo look pretty good, and they don't even have Sandberg back yet.  \\n\\nCUBS IN '93!!!!!\\n\\nCHA\\n\""
      ]
     },
     "execution_count": 28,
     "metadata": {},
     "output_type": "execute_result"
    }
   ],
   "source": [
    "corpus[0]"
   ]
  },
  {
   "cell_type": "code",
   "execution_count": 46,
   "metadata": {
    "collapsed": true
   },
   "outputs": [],
   "source": [
    "stopset = set(stopwords.words('english'))\n",
    "stopset.update(['lt','p','/p','br','amp','quot','field','font','normal','span','0px','rgb','style','51', \n",
    "                'spacing','text','helvetica','size','family', 'space', 'arial', 'height', 'indent', 'letter'\n",
    "                'line','none','sans','serif','transform','line','variant','weight','times', 'new','strong', 'video', 'title'\n",
    "                'white','word','letter', 'roman','0pt','16','color','12','14','21', 'neue', 'apple', 'class', 'nntp', 'like', 'well', 'also', 'get'  ])"
   ]
  },
  {
   "cell_type": "code",
   "execution_count": null,
   "metadata": {
    "collapsed": true
   },
   "outputs": [],
   "source": []
  },
  {
   "cell_type": "code",
   "execution_count": 34,
   "metadata": {
    "collapsed": false
   },
   "outputs": [],
   "source": [
    "vectorizer = TfidfVectorizer(stop_words=stopset,\n",
    "                                 use_idf=True, ngram_range=(1, 3))\n",
    "X = vectorizer.fit_transform(corpus)"
   ]
  },
  {
   "cell_type": "code",
   "execution_count": 35,
   "metadata": {
    "collapsed": false
   },
   "outputs": [
    {
     "data": {
      "text/plain": [
       "<1x188088 sparse matrix of type '<class 'numpy.float64'>'\n",
       "\twith 229 stored elements in Compressed Sparse Row format>"
      ]
     },
     "execution_count": 35,
     "metadata": {},
     "output_type": "execute_result"
    }
   ],
   "source": [
    "X[0]"
   ]
  },
  {
   "cell_type": "code",
   "execution_count": 37,
   "metadata": {
    "collapsed": false
   },
   "outputs": [
    {
     "name": "stdout",
     "output_type": "stream",
     "text": [
      "  (0, 51441)\t0.0739614450823\n",
      "  (0, 187358)\t0.0739614450823\n",
      "  (0, 28939)\t0.0739614450823\n",
      "  (0, 145086)\t0.0739614450823\n",
      "  (0, 64046)\t0.0739614450823\n",
      "  (0, 77593)\t0.0739614450823\n",
      "  (0, 132368)\t0.0739614450823\n",
      "  (0, 102622)\t0.0739614450823\n",
      "  (0, 66435)\t0.0739614450823\n",
      "  (0, 113709)\t0.0739614450823\n",
      "  (0, 161841)\t0.0739614450823\n",
      "  (0, 179412)\t0.0739614450823\n",
      "  (0, 118825)\t0.0739614450823\n",
      "  (0, 64186)\t0.0739614450823\n",
      "  (0, 103114)\t0.0739614450823\n",
      "  (0, 94983)\t0.0739614450823\n",
      "  (0, 132283)\t0.0739614450823\n",
      "  (0, 142244)\t0.0739614450823\n",
      "  (0, 97593)\t0.0739614450823\n",
      "  (0, 114349)\t0.0739614450823\n",
      "  (0, 164212)\t0.0739614450823\n",
      "  (0, 59267)\t0.0739614450823\n",
      "  (0, 51481)\t0.0739614450823\n",
      "  (0, 35716)\t0.0739614450823\n",
      "  (0, 64172)\t0.0739614450823\n",
      "  :\t:\n",
      "  (0, 183911)\t0.015655015889\n",
      "  (0, 142480)\t0.0555802309707\n",
      "  (0, 121494)\t0.111160461941\n",
      "  (0, 37508)\t0.0996785439776\n",
      "  (0, 40682)\t0.105257944488\n",
      "  (0, 16584)\t0.0739614450823\n",
      "  (0, 94387)\t0.111160461941\n",
      "  (0, 25764)\t0.0161922460089\n",
      "  (0, 100274)\t0.0103208000105\n",
      "  (0, 162430)\t0.0611096618209\n",
      "  (0, 48163)\t0.0390694082984\n",
      "  (0, 173856)\t0.039417195873\n",
      "  (0, 113507)\t0.0611096618209\n",
      "  (0, 173892)\t0.0180626374482\n",
      "  (0, 157546)\t0.0374880148692\n",
      "  (0, 29461)\t0.0308265507854\n",
      "  (0, 120881)\t0.0103415667199\n",
      "  (0, 67979)\t0.1253821105\n",
      "  (0, 51363)\t0.161996512624\n",
      "  (0, 160356)\t0.0102587509246\n",
      "  (0, 59766)\t0.0238944824554\n",
      "  (0, 38750)\t0.0508660032618\n",
      "  (0, 38760)\t0.0508660032618\n",
      "  (0, 98618)\t0.0498392719888\n",
      "  (0, 184845)\t0.0739614450823\n"
     ]
    }
   ],
   "source": [
    "print (X[0])"
   ]
  },
  {
   "cell_type": "code",
   "execution_count": 38,
   "metadata": {
    "collapsed": false
   },
   "outputs": [
    {
     "data": {
      "text/plain": [
       "(994, 188088)"
      ]
     },
     "execution_count": 38,
     "metadata": {},
     "output_type": "execute_result"
    }
   ],
   "source": [
    "X.shape"
   ]
  },
  {
   "cell_type": "code",
   "execution_count": 39,
   "metadata": {
    "collapsed": false
   },
   "outputs": [
    {
     "data": {
      "text/plain": [
       "TruncatedSVD(algorithm='randomized', n_components=27, n_iter=100,\n",
       "       random_state=None, tol=0.0)"
      ]
     },
     "execution_count": 39,
     "metadata": {},
     "output_type": "execute_result"
    }
   ],
   "source": [
    "lsa = TruncatedSVD(n_components=27, n_iter=100)\n",
    "lsa.fit(X)"
   ]
  },
  {
   "cell_type": "code",
   "execution_count": 40,
   "metadata": {
    "collapsed": false
   },
   "outputs": [
    {
     "data": {
      "text/plain": [
       "array([ 0.01601322,  0.00499985,  0.00078314, ...,  0.00105261,\n",
       "        0.00105261,  0.00105261])"
      ]
     },
     "execution_count": 40,
     "metadata": {},
     "output_type": "execute_result"
    }
   ],
   "source": [
    "#This is the first row for V\n",
    "lsa.components_[0]"
   ]
  },
  {
   "cell_type": "code",
   "execution_count": 41,
   "metadata": {
    "collapsed": false
   },
   "outputs": [
    {
     "name": "stdout",
     "output_type": "stream",
     "text": [
      "3.5.2 |Anaconda 4.1.1 (x86_64)| (default, Jul  2 2016, 17:52:12) \n",
      "[GCC 4.2.1 Compatible Apple LLVM 4.2 (clang-425.0.28)]\n"
     ]
    }
   ],
   "source": [
    "import sys\n",
    "print (sys.version)"
   ]
  },
  {
   "cell_type": "code",
   "execution_count": 47,
   "metadata": {
    "collapsed": false
   },
   "outputs": [
    {
     "name": "stdout",
     "output_type": "stream",
     "text": [
      "Concept 0:\n",
      "edu\n",
      "com\n",
      "year\n",
      "writes\n",
      "team\n",
      "would\n",
      "game\n",
      "article\n",
      "cs\n",
      "baseball\n",
      " \n",
      "Concept 1:\n",
      "00 00 chicago\n",
      "host\n",
      "players\n",
      "jewish\n",
      "anyone\n",
      "run\n",
      "come\n",
      "edu vb30\n",
      "lafayette edu\n",
      "lafayette edu vb30\n",
      " \n",
      "Concept 2:\n",
      "good\n",
      "year\n",
      "better\n",
      "cs\n",
      "morris\n",
      "players\n",
      "time\n",
      "make\n",
      "years\n",
      "run\n",
      " \n",
      "Concept 3:\n",
      "hit\n",
      "better\n",
      "cs\n",
      "know\n",
      "clutch\n",
      "runs\n",
      "maybe\n",
      "hitter\n",
      "two\n",
      "sabo\n",
      " \n",
      "Concept 4:\n",
      "com\n",
      "time\n",
      "article\n",
      "could\n",
      "baseball\n",
      "think\n",
      "see\n",
      "gant\n",
      "ibm\n",
      "right\n",
      " \n",
      "Concept 5:\n",
      "get\n",
      "article\n",
      "writes\n",
      "would\n",
      "cs\n",
      "pitcher\n",
      "bonds\n",
      "morris\n",
      "think\n",
      "year\n",
      " \n",
      "Concept 6:\n",
      "well\n",
      "make\n",
      "like\n",
      "let\n",
      "posting\n",
      "going\n",
      "00\n",
      "nntp\n",
      "pitcher\n",
      "would\n",
      " \n",
      "Concept 7:\n",
      "00\n",
      "00 00\n",
      "games\n",
      "first\n",
      "game\n",
      "edu writes\n",
      "see\n",
      "player\n",
      "00 00 00\n",
      "00 00 american\n",
      " \n",
      "Concept 8:\n",
      "00\n",
      "00 00\n",
      "00 00 00\n",
      "game\n",
      "cs\n",
      "last\n",
      "mets\n",
      "best\n",
      "say\n",
      "like\n",
      " \n",
      "Concept 9:\n",
      "00\n",
      "year\n",
      "00 00\n",
      "think\n",
      "better\n",
      "world\n",
      "posting\n",
      "best\n",
      "00 00 00\n",
      "league\n",
      " \n",
      "Concept 10:\n",
      "year\n",
      "braves\n",
      "games\n",
      "like\n",
      "first\n",
      "game\n",
      "distribution\n",
      "stats\n",
      "00 00 chicago\n",
      "organization university\n",
      " \n",
      "Concept 11:\n",
      "time\n",
      "game\n",
      "better\n",
      "posting\n",
      "university\n",
      "back\n",
      "best\n",
      "last\n",
      "games\n",
      "player\n",
      " \n",
      "Concept 12:\n",
      "hit\n",
      "go\n",
      "well\n",
      "smith\n",
      "00 00 chicago\n",
      "back\n",
      "years\n",
      "news\n",
      "roger\n",
      "see\n",
      " \n",
      "Concept 13:\n",
      "com\n",
      "00\n",
      "get\n",
      "00 00\n",
      "article\n",
      "posting\n",
      "lines\n",
      "players\n",
      "university\n",
      "morris\n",
      " \n",
      "Concept 14:\n",
      "players\n",
      "one\n",
      "university\n",
      "subject\n",
      "com\n",
      "cs\n",
      "lines\n",
      "know\n",
      "team\n",
      "years\n",
      " \n",
      "Concept 15:\n",
      "year\n",
      "much\n",
      "last\n",
      "players\n",
      "com\n",
      "well\n",
      "lines\n",
      "go\n",
      "host\n",
      "get\n",
      " \n",
      "Concept 16:\n",
      "like\n",
      "know\n",
      "article\n",
      "run\n",
      "well\n",
      "also\n",
      "anyone\n",
      "lines\n",
      "people\n",
      "team\n",
      " \n",
      "Concept 17:\n",
      "com\n",
      "writes\n",
      "get\n",
      "like\n",
      "good\n",
      "players\n",
      "subject\n",
      "organization\n",
      "know\n",
      "one\n",
      " \n",
      "Concept 18:\n",
      "com\n",
      "distribution\n",
      "better\n",
      "first\n",
      "win\n",
      "last\n",
      "00 00 american\n",
      "good\n",
      "00 00 chicago\n",
      "netcom\n",
      " \n",
      "Concept 19:\n",
      "one\n",
      "com\n",
      "go\n",
      "would\n",
      "say\n",
      "get\n",
      "00 00 american\n",
      "morris\n",
      "hit\n",
      "games\n",
      " \n",
      "Concept 20:\n",
      "think\n",
      "nntp\n",
      "games\n",
      "first\n",
      "going\n",
      "morris\n",
      "last\n",
      "let\n",
      "david\n",
      "right\n",
      " \n",
      "Concept 21:\n",
      "university\n",
      "year\n",
      "one\n",
      "win\n",
      "posting\n",
      "first\n",
      "way\n",
      "00 00 american\n",
      "braves\n",
      "host\n",
      " \n",
      "Concept 22:\n",
      "first\n",
      "cs\n",
      "braves\n",
      "david\n",
      "article\n",
      "would\n",
      "com\n",
      "pitching\n",
      "posting\n",
      "baseball\n",
      " \n",
      "Concept 23:\n",
      "would\n",
      "com\n",
      "team\n",
      "university\n",
      "first\n",
      "00 00 american\n",
      "posting\n",
      "time\n",
      "host\n",
      "know\n",
      " \n",
      "Concept 24:\n",
      "team\n",
      "baseball\n",
      "00 00 american\n",
      "think\n",
      "organization\n",
      "last\n",
      "mail\n",
      "well\n",
      "many\n",
      "much\n",
      " \n",
      "Concept 25:\n",
      "would\n",
      "article\n",
      "writes\n",
      "first\n",
      "last\n",
      "one\n",
      "nntp posting\n",
      "nntp\n",
      "organization university\n",
      "like\n",
      " \n",
      "Concept 26:\n",
      "00 00 000\n",
      "one\n",
      "host\n",
      "com\n",
      "get\n",
      "team\n",
      "first\n",
      "even\n",
      "better\n",
      "cs\n",
      " \n"
     ]
    }
   ],
   "source": [
    "terms = vectorizer.get_feature_names()\n",
    "for i, comp in enumerate(lsa.components_): \n",
    "    termsInComp = zip (terms,comp)\n",
    "    sortedTerms =  sorted(termsInComp, key=lambda x: x[1], reverse=True) [:10]\n",
    "    print (\"Concept %d:\" % i)\n",
    "    for term in sortedTerms:\n",
    "        print (term[0])\n",
    "    print (\" \")"
   ]
  },
  {
   "cell_type": "code",
   "execution_count": 44,
   "metadata": {
    "collapsed": false
   },
   "outputs": [
    {
     "data": {
      "text/plain": [
       "array([[  1.60132219e-02,   4.99984600e-03,   7.83142818e-04, ...,\n",
       "          1.05260732e-03,   1.05260732e-03,   1.05260732e-03],\n",
       "       [ -1.49858032e-02,  -1.74805764e-02,   4.38383831e-03, ...,\n",
       "          3.74292419e-04,   3.74292419e-04,   3.74292419e-04],\n",
       "       [  3.56195885e-02,   2.09141217e-02,   2.50001663e-02, ...,\n",
       "         -1.47694265e-03,  -1.47694265e-03,  -1.47694265e-03],\n",
       "       ..., \n",
       "       [  1.36790387e-02,   1.70666995e-02,   2.60611819e-02, ...,\n",
       "         -9.23510788e-05,  -9.23510788e-05,  -9.23510788e-05],\n",
       "       [  4.46266146e-03,   7.83376994e-03,   4.47996011e-02, ...,\n",
       "          3.73821987e-05,   3.73821987e-05,   3.73821987e-05],\n",
       "       [  5.77740557e-02,  -1.11232390e-02,  -6.80651023e-02, ...,\n",
       "          2.22075997e-04,   2.22075997e-04,   2.22075997e-04]])"
      ]
     },
     "execution_count": 44,
     "metadata": {},
     "output_type": "execute_result"
    }
   ],
   "source": [
    "lsa.components_"
   ]
  },
  {
   "cell_type": "code",
   "execution_count": null,
   "metadata": {
    "collapsed": true
   },
   "outputs": [],
   "source": []
  }
 ],
 "metadata": {
  "kernelspec": {
   "display_name": "Python [Root]",
   "language": "python",
   "name": "Python [Root]"
  },
  "language_info": {
   "codemirror_mode": {
    "name": "ipython",
    "version": 3
   },
   "file_extension": ".py",
   "mimetype": "text/x-python",
   "name": "python",
   "nbconvert_exporter": "python",
   "pygments_lexer": "ipython3",
   "version": "3.5.2"
  }
 },
 "nbformat": 4,
 "nbformat_minor": 0
}
